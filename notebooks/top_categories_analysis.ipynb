{
 "cells": [
  {
   "cell_type": "code",
   "execution_count": 29,
   "metadata": {},
   "outputs": [],
   "source": [
    "from pdb import line_prefix\n",
    "\n",
    "\n",
    "from collections import Counter\n",
    "import matplotlib.pyplot as plt\n",
    "\n",
    "\n",
    "path = '../data/original_datasets/NEG-136-SIMP.txt'\n",
    "file = open(path)\n",
    "fil_name = path.split('/')[-1].split('.')[0]\n",
    "\n",
    "subject = []\n",
    "object = []\n",
    "for line in file:\n",
    "    line = line.split(' ')\n",
    "    sub = line[1]\n",
    "    obj = line[-1].split(',')[0]\n",
    "    subject.append(sub)\n",
    "    object.append(obj)\n",
    "\n",
    "subject_counter = Counter(subject)\n",
    "object_counter = Counter(object)\n",
    "\n",
    "# object_counter = dict((x,y) for x, y in object_counter)\n",
    "\n",
    "# print(object_counter)\n",
    "# plt.xticks(rotation=90)\n",
    "# plt.rcParams.update({'font.size': 11})\n",
    "# plt.bar(object_counter.keys(), object_counter.values())\n",
    "# plt.savefig('{}.pdf'.format(fil_name),format=\"pdf\",bbox_inches = \"tight\") \n",
    "# plt.show()\n",
    " "
   ]
  },
  {
   "cell_type": "code",
   "execution_count": 30,
   "metadata": {},
   "outputs": [],
   "source": [
    "# import matplotlib.image as mpimg\n",
    "# img = mpimg.imread('ROLE-1500.pdf')\n",
    "# plt.imshow(img)\n",
    "# plt.show()"
   ]
  },
  {
   "cell_type": "code",
   "execution_count": 31,
   "metadata": {},
   "outputs": [
    {
     "data": {
      "text/plain": [
       "Counter({'fish': 6,\n",
       "         'tool': 10,\n",
       "         'flower': 10,\n",
       "         'insect': 6,\n",
       "         'bird': 8,\n",
       "         'tree': 8,\n",
       "         'vegetable': 8,\n",
       "         'vehicle': 8,\n",
       "         'building': 8})"
      ]
     },
     "execution_count": 31,
     "metadata": {},
     "output_type": "execute_result"
    }
   ],
   "source": [
    "object_counter"
   ]
  },
  {
   "cell_type": "code",
   "execution_count": 2,
   "metadata": {},
   "outputs": [
    {
     "name": "stdout",
     "output_type": "stream",
     "text": [
      "11\n"
     ]
    }
   ],
   "source": [
    "lis1 = [\"animal\", \"vegetable\", \"furniture\", \"relative\", \"city\", \"flower\", \"animal\", \"animal\", \"city\", \"city\", \"tree\", \"state\", \"toy\", \"tree\", \"relative\", \"snake\", \"disease\", \"furniture\", \"animal\", \"sport\", \"crime\", \"state\", \"fish\", \"toy\", \"insect\", \"profession\", \"flower\", \"fruit\", \"bird\", \"fish\", \"crime\", \"relative\", \"furniture\", \"country\", \"bird\", \"metal\", \"snake\", \"bird\", \"vehicle\", \"snake\", \"fish\", \"bird\", \"city\", \"relative\", \"crime\", \"profession\", \"snake\", \"sport\", \"profession\", \"bird\", \"toy\", \"country\", \"flower\", \"weapon\", \"sport\", \"city\", \"crime\", \"state\", \"country\", \"color\", \"crime\", \"fruit\", \"metal\", \"state\", \"furniture\", \"sport\", \"tree\", \"country\", \"furniture\", \"vehicle\", \"bird\", \"flower\", \"state\", \"tree\", \"fish\", \"vehicle\", \"furniture\", \"metal\", \"profession\", \"sport\", \"city\", \"sport\", \"country\", \"tree\", \"weapon\", \"weapon\", \"vehicle\", \"vegetable\", \"vegetable\", \"weapon\", \"metal\", \"city\", \"snake\", \"state\", \"fruit\", \"animal\", \"city\", \"flower\", \"bird\", \"city\"]\n",
    "\n",
    "lis2 = [\"family\", \"material\", \"material\", \"element\", \"animal\", \"bird\", \"mammal\", \"celebration\", \"furniture\", \"bird\", \"vegetable\", \"vehicle\", \"toy\", \"trip\", \"currency\", \"structure\", \"food\", \"place\", \"rock\", \"machine\", \"vertebrate\", \"dessert\", \"device\", \"footwear\", \"furniture\", \"fruit\", \"invertebrate\", \"publication\", \"instrument\", \"instrument\", \"bird\", \"pupil\", \"stationary\", \"device\", \"vegetable\", \"food\", \"cook\", \"watercraft\", \"organism\", \"flower\", \"building\", \"person\", \"machine\", \"decoration\", \"organ\", \"place\", \"carnivore\", \"element\", \"person\", \"dessert\", \"arachnid\", \"lighting\", \"vehicle\", \"creature\", \"sport\", \"boat\", \"fruit\", \"person\", \"building\", \"gemstone\", \"device\", \"mammal\", \"artist\", \"gemstone\", \"worker\", \"tool\", \"room\", \"human\", \"device\", \"clothing\", \"animal\", \"reptile\", \"tree\", \"food\", \"sport\", \"insect\", \"instrument\", \"mammal\", \"plant\", \"fruit\", \"therapy\", \"animal\", \"utensil\", \"animal\", \"art\", \"flower\", \"mollusk\", \"drink\", \"animal\", \"timeframe\", \"flower\", \"container\", \"building\", \"machine\", \"mineral\", \"drink\", \"flake\", \"utensil\", \"thing\", \"bird\"]\n",
    "\n",
    "# Convert the lists to sets\n",
    "set1 = set(lis1)\n",
    "set2 = set(lis2)\n",
    "\n",
    "# Find words that are unique and found in both lists\n",
    "common_unique_words = set1.intersection(set2)\n",
    "\n",
    "# Convert the result back to a list if needed\n",
    "result = list(common_unique_words)\n",
    "\n",
    "print(len(result))\n"
   ]
  },
  {
   "cell_type": "code",
   "execution_count": 4,
   "metadata": {},
   "outputs": [
    {
     "data": {
      "text/plain": [
       "23"
      ]
     },
     "execution_count": 4,
     "metadata": {},
     "output_type": "execute_result"
    }
   ],
   "source": [
    "len(set(lis1))"
   ]
  },
  {
   "cell_type": "code",
   "execution_count": 5,
   "metadata": {},
   "outputs": [
    {
     "data": {
      "text/plain": [
       "63"
      ]
     },
     "execution_count": 5,
     "metadata": {},
     "output_type": "execute_result"
    }
   ],
   "source": [
    "len(set(lis2))"
   ]
  },
  {
   "cell_type": "code",
   "execution_count": null,
   "metadata": {},
   "outputs": [],
   "source": []
  }
 ],
 "metadata": {
  "kernelspec": {
   "display_name": "Python 3.8.5 ('venv-dataext': venv)",
   "language": "python",
   "name": "python3"
  },
  "language_info": {
   "codemirror_mode": {
    "name": "ipython",
    "version": 3
   },
   "file_extension": ".py",
   "mimetype": "text/x-python",
   "name": "python",
   "nbconvert_exporter": "python",
   "pygments_lexer": "ipython3",
   "version": "3.8.5"
  },
  "orig_nbformat": 4,
  "vscode": {
   "interpreter": {
    "hash": "5ec61d85b78278ec8b42fe8d48ab3c18ce721f881e1bb0af2443db064f99bbd3"
   }
  }
 },
 "nbformat": 4,
 "nbformat_minor": 2
}
