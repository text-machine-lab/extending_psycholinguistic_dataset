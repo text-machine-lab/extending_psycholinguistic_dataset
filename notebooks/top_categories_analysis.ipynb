{
 "cells": [
  {
   "cell_type": "code",
   "execution_count": 29,
   "metadata": {},
   "outputs": [],
   "source": [
    "from pdb import line_prefix\n",
    "\n",
    "\n",
    "from collections import Counter\n",
    "import matplotlib.pyplot as plt\n",
    "\n",
    "\n",
    "path = '../data/original_datasets/NEG-136-SIMP.txt'\n",
    "file = open(path)\n",
    "fil_name = path.split('/')[-1].split('.')[0]\n",
    "\n",
    "subject = []\n",
    "object = []\n",
    "for line in file:\n",
    "    line = line.split(' ')\n",
    "    sub = line[1]\n",
    "    obj = line[-1].split(',')[0]\n",
    "    subject.append(sub)\n",
    "    object.append(obj)\n",
    "\n",
    "subject_counter = Counter(subject)\n",
    "object_counter = Counter(object)\n",
    "\n",
    "# object_counter = dict((x,y) for x, y in object_counter)\n",
    "\n",
    "# print(object_counter)\n",
    "# plt.xticks(rotation=90)\n",
    "# plt.rcParams.update({'font.size': 11})\n",
    "# plt.bar(object_counter.keys(), object_counter.values())\n",
    "# plt.savefig('{}.pdf'.format(fil_name),format=\"pdf\",bbox_inches = \"tight\") \n",
    "# plt.show()\n",
    " "
   ]
  },
  {
   "cell_type": "code",
   "execution_count": 30,
   "metadata": {},
   "outputs": [],
   "source": [
    "# import matplotlib.image as mpimg\n",
    "# img = mpimg.imread('ROLE-1500.pdf')\n",
    "# plt.imshow(img)\n",
    "# plt.show()"
   ]
  },
  {
   "cell_type": "code",
   "execution_count": 31,
   "metadata": {},
   "outputs": [
    {
     "data": {
      "text/plain": [
       "Counter({'fish': 6,\n",
       "         'tool': 10,\n",
       "         'flower': 10,\n",
       "         'insect': 6,\n",
       "         'bird': 8,\n",
       "         'tree': 8,\n",
       "         'vegetable': 8,\n",
       "         'vehicle': 8,\n",
       "         'building': 8})"
      ]
     },
     "execution_count": 31,
     "metadata": {},
     "output_type": "execute_result"
    }
   ],
   "source": [
    "object_counter"
   ]
  },
  {
   "cell_type": "code",
   "execution_count": null,
   "metadata": {},
   "outputs": [],
   "source": []
  }
 ],
 "metadata": {
  "kernelspec": {
   "display_name": "Python 3.8.5 ('venv-dataext': venv)",
   "language": "python",
   "name": "python3"
  },
  "language_info": {
   "codemirror_mode": {
    "name": "ipython",
    "version": 3
   },
   "file_extension": ".py",
   "mimetype": "text/x-python",
   "name": "python",
   "nbconvert_exporter": "python",
   "pygments_lexer": "ipython3",
   "version": "3.8.5"
  },
  "orig_nbformat": 4,
  "vscode": {
   "interpreter": {
    "hash": "5ec61d85b78278ec8b42fe8d48ab3c18ce721f881e1bb0af2443db064f99bbd3"
   }
  }
 },
 "nbformat": 4,
 "nbformat_minor": 2
}
